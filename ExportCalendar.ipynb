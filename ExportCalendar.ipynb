{
  "nbformat": 4,
  "nbformat_minor": 0,
  "metadata": {
    "colab": {
      "name": "ExportFacebookBirthdayCalendar.ipynb",
      "provenance": [],
      "collapsed_sections": [],
      "authorship_tag": "ABX9TyNU37NSCaUpCZR3Gkx28D7p",
      "include_colab_link": true
    },
    "kernelspec": {
      "name": "python3",
      "display_name": "Python 3"
    }
  },
  "cells": [
    {
      "cell_type": "markdown",
      "metadata": {
        "id": "view-in-github",
        "colab_type": "text"
      },
      "source": [
        "<a href=\"https://colab.research.google.com/github/ReshamWadhwa/utilities/blob/master/ExportCalendar.ipynb\" target=\"_parent\"><img src=\"https://colab.research.google.com/assets/colab-badge.svg\" alt=\"Open In Colab\"/></a>"
      ]
    },
    {
      "cell_type": "code",
      "metadata": {
        "id": "Kil2NRTVVhMV",
        "colab_type": "code",
        "colab": {}
      },
      "source": [
        ""
      ],
      "execution_count": null,
      "outputs": []
    },
    {
      "cell_type": "code",
      "metadata": {
        "id": "hkBA-49J3Ndu",
        "colab_type": "code",
        "colab": {}
      },
      "source": [
        "source_code='''<-->'''"
      ],
      "execution_count": null,
      "outputs": []
    },
    {
      "cell_type": "code",
      "metadata": {
        "id": "zyitHSB36-J7",
        "colab_type": "code",
        "colab": {}
      },
      "source": [
        "### Open https://www.facebook.com/events/birthdays/ ( logged in to your account)\n",
        "## Scroll to the bottom till it loads the birthdays month wise for till next year\n",
        "## Now on the last month block, right click and inspect element\n",
        "##  Scroll to the top and Copy the entire \"body\" element and save it in the triple quoted string variable source_code above \n",
        "## then run the code"
      ],
      "execution_count": null,
      "outputs": []
    },
    {
      "cell_type": "code",
      "metadata": {
        "id": "BGgb40BA3aFS",
        "colab_type": "code",
        "colab": {}
      },
      "source": [
        "import datetime\n",
        "import pandas\n",
        "from ics import Calendar, Event\n",
        "import datetime as DT\n",
        "\n",
        "\n",
        "def get_next_7_days_data():\n",
        "  today = DT.date.today()\n",
        "  week_list={}\n",
        "  for x in range(1,8):\n",
        "      dayy={}\n",
        "      week_date = today + DT.timedelta(days=x)\n",
        "      weekday = week_date.strftime('%A').lower()\n",
        "      dayy['dd']=week_date.strftime('%d').lower()\n",
        "      dayy['mm'] = week_date.strftime('%m').lower()\n",
        "\n",
        "      week_list[weekday]=dayy\n",
        "      \n",
        "  return week_list\n",
        "\n",
        "\n",
        "def get_dataframe_with_birthdays(year_start, year_end, birthday_event_name_template):\n",
        "  name_date=[]\n",
        "  dict_list=[]\n",
        "\n",
        "  #appending all different lines into one. currently multiple tags and divs are in same line.\n",
        "  lines=\"\"\n",
        "  for line in source_code:\n",
        "      lines=lines+line\n",
        "\n",
        "  #separating different divs to diff lines \n",
        "  elems=lines.split(\"><\")\n",
        "  \n",
        "   # for the current week, facebook calendar shows weekdays - tuesday, friday etc \n",
        "  all_weekdays=get_next_7_days_data()\n",
        "  \n",
        "  for l in elems:\n",
        "      if (\"data-tooltip-content\" in l) & (\"a href\" in l):   \n",
        "          split_arr = l.split(\"data-hover=\\\"tooltip\\\" data-tooltip-content=\")[1].split(\" id=\")[0][1:-1].rsplit(\" \", 1)       \n",
        "          \n",
        "          subj = birthday_event_name_template.replace(\"<name>\",split_arr[0])\n",
        "          \n",
        "          date_str = split_arr[1]\n",
        "          date_str=date_str.lower()[1:-1]\n",
        "          \n",
        "          # for the current week, facebook calendar shows weekdays - tuesday, friday etc \n",
        "          if date_str in all_weekdays :\n",
        "              dd = all_weekdays[date_str]['dd']\n",
        "              mm = all_weekdays[date_str]['mm']\n",
        "          else: # for other days, mm/dd is shown\n",
        "              dd = date_str.split(\"/\")[0]\n",
        "              mm = date_str.split(\"/\")[1]\n",
        "          \n",
        "          # generate for all years\n",
        "          for year_str in range(year_start,year_end+1):\n",
        "            ds = mm+\"/\"+dd+\"/\"+str(year_str)\n",
        "            res={}\n",
        "            res['Subject']=subj\n",
        "            res['Start Date']=ds\n",
        "            dict_list.append(res)\n",
        "  return dict_list\n"
      ],
      "execution_count": null,
      "outputs": []
    },
    {
      "cell_type": "code",
      "metadata": {
        "id": "423EuPu-3jsa",
        "colab_type": "code",
        "colab": {}
      },
      "source": [
        "\n",
        "\n",
        "\n",
        "\n",
        "\n",
        "def get_calendar_to_file(year_start,\n",
        "                         year_end, \n",
        "                         birthday_event_name_template,\n",
        "                         write_csv,\n",
        "                         output_file_name,\n",
        "                         ):\n",
        "  list_date = get_dataframe_with_birthdays(year_start, year_end, birthday_event_name_template)\n",
        "  if write_csv:\n",
        "    df = pandas.DataFrame(list_date).sort_values(by='Start Date').drop_duplicates()\n",
        "    df.to_csv(output_file_name+\".csv\",index=False)\n",
        "  else:\n",
        "    c = Calendar()\n",
        "    for bday_event in list_date:\n",
        "      e = Event()\n",
        "      e.name = bday_event['Subject']\n",
        "      date_arr = bday_event['Start Date'].split(\"/\")\n",
        "      e.begin = date_arr[2]+\"-\"+date_arr[0]+\"-\"+date_arr[1]+\" 00:00:00\"\n",
        "      c.events.add(e)\n",
        "    with open(output_file_name+'.ics', 'w') as f:\n",
        "        f.write(str(c))"
      ],
      "execution_count": null,
      "outputs": []
    },
    {
      "cell_type": "code",
      "metadata": {
        "id": "Vu9g5pAa_IZ1",
        "colab_type": "code",
        "colab": {}
      },
      "source": [
        "#make changes here\n",
        "write_csv=True # write ics file by default, set to true for csv file   \n",
        "year_start =2020\n",
        "year_end = 2020 # only for 2020 , change it as per requirement\n",
        "birthday_event_name_template=\"<name> birthday\"   ## change it as required\n",
        "output_file_name=\"FacebookBirthdayEvents\"\n",
        "########\n",
        "\n",
        "\n",
        "get_calendar_to_file(year_start,year_end, birthday_event_name_template,write_csv,output_file_name)"
      ],
      "execution_count": null,
      "outputs": []
    },
    {
      "cell_type": "code",
      "metadata": {
        "id": "gYWupXAyJdmu",
        "colab_type": "code",
        "colab": {}
      },
      "source": [
        "### import the ics file tp "
      ],
      "execution_count": null,
      "outputs": []
    }
  ]
}